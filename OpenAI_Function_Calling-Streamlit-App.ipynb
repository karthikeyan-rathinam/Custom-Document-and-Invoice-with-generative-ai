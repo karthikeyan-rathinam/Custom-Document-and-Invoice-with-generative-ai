{
  "nbformat": 4,
  "nbformat_minor": 0,
  "metadata": {
    "colab": {
      "provenance": []
    },
    "kernelspec": {
      "name": "python3",
      "display_name": "Python 3"
    },
    "language_info": {
      "name": "python"
    }
  },
  "cells": [
    {
      "cell_type": "code",
      "source": [
        "%%writefile requirements.txt\n",
        "openai==0.27.8\n",
        "docx2txt==0.8\n",
        "langchain==0.0.225\n",
        "PyPDF2==3.0.1\n",
        "python-dotenv==1.0.0\n",
        "streamlit==1.24.0\n",
        "pdfplumber"
      ],
      "metadata": {
        "colab": {
          "base_uri": "https://localhost:8080/"
        },
        "id": "Cc17dVQy_zHH",
        "outputId": "fb3e9036-06b3-4778-9ac6-fb4d3d7c3c9c"
      },
      "execution_count": 1,
      "outputs": [
        {
          "output_type": "stream",
          "name": "stdout",
          "text": [
            "Writing requirements.txt\n"
          ]
        }
      ]
    },
    {
      "cell_type": "code",
      "source": [
        "%%capture\n",
        "!pip install -r requirements.txt"
      ],
      "metadata": {
        "id": "CNhX0UV2-C8o"
      },
      "execution_count": null,
      "outputs": []
    },
    {
      "cell_type": "code",
      "source": [
        "%%writefile .env\n",
        "OPENAI_API_KEY=\"-----\""
      ],
      "metadata": {
        "id": "TsJcFbeVEImC"
      },
      "execution_count": null,
      "outputs": []
    },
    {
      "cell_type": "code",
      "source": [
        "%%writefile app.py\n",
        "import logging\n",
        "import os\n",
        "import json\n",
        "import pdfplumber\n",
        "from dotenv import load_dotenv\n",
        "import streamlit as st\n",
        "from PyPDF2 import PdfReader\n",
        "import docx2txt\n",
        "from langchain.chat_models import ChatOpenAI\n",
        "from langchain.schema import HumanMessage\n",
        "from langchain import PromptTemplate\n",
        "import openai\n",
        "import os\n",
        "from google.colab import userdata\n",
        "GPT_MODEL=\"gpt-3.5-turbo-0613\"\n",
        "openai.api_key=os.getenv(\"OPENAI_API_KEY\")\n",
        "\n",
        "# Configure logging\n",
        "log_dir = os.getenv('LOG_DIRECTORY', './')\n",
        "log_file_path = os.path.join(str(log_dir), 'app.log')\n",
        "\n",
        "logging.basicConfig(\n",
        "    filename=log_file_path,\n",
        "    filemode='a',\n",
        "    format='[%(asctime)s] [%(levelname)s] [%(filename)s] [%(lineno)s:%(funcName)5s()] %(message)s',\n",
        "    datefmt='%Y-%b-%d %H:%M:%S',\n",
        "    level=logging.INFO  # Set your desired log level here, e.g., logging.DEBUG\n",
        ")\n",
        "logger = logging.getLogger(__name__)\n",
        "function_definitions = [\n",
        "    {\n",
        "        \"name\": \"invoice\",\n",
        "        \"description\": \"Get invoice information to extract values if not available value fill 'NA'\",\n",
        "        \"parameters\": {\n",
        "            \"type\": \"object\",\n",
        "            \"properties\": {\n",
        "                \"from\": {\n",
        "                    \"type\": \"string\",\n",
        "                    \"description\": \"Sender/bill to/shipper/owner of invoice Address of the invoice e.g. DEMO - Company Invoices, Plat 5A-1204, 123 Somewhere Street, Your City AZ 12345, abc@company.com\"\n",
        "                },\n",
        "                \"to\": {\n",
        "                    \"type\": \"string\",\n",
        "                    \"description\": \"Recipient/ship to/cosignee/ consumer of(Recipient) Address of the invoice e.g. DEMO - Company Invoices, Plat 5A-1204, 123 Somewhere Street, Your City AZ 12345, abc@company.com\"\n",
        "                },\n",
        "                \"invoice_name\": {\n",
        "                    \"type\": \"string\",\n",
        "                    \"description\": \"Unique identifier for the invoice name\"\n",
        "                },\n",
        "                \"invoice_number\": {\n",
        "                    \"type\": \"string\",\n",
        "                    \"description\": \"Unique identifier for the invoice number(no)\"\n",
        "                },\n",
        "                \"order_number\": {\n",
        "                    \"type\": \"string\",\n",
        "                    \"description\": \"Order number associated with the invoice number(no)\"\n",
        "                },\n",
        "                \"invoice_date\": {\n",
        "                    \"type\": \"string\",\n",
        "                    \"description\": \"Date of the invoice e.g. Jan 01, 2000 or 01/01/2000 or 01-01-2000\"\n",
        "                },\n",
        "                \"Contact for Sender\": {\n",
        "                    \"type\": \"string\",\n",
        "                    \"description\": \"contact for sender/billto/shipto/autherofinvoice of the invoice e.g. 'John'\"\n",
        "                },\n",
        "                \"Contact for Recipient\": {\n",
        "                    \"type\": \"string\",\n",
        "                    \"description\": \"contact for Recipient/cosignee/shipper/Recipient of invoice of the invoice e.g. 'John'\"\n",
        "                },\n",
        "                \"total\": {\n",
        "                    \"type\": \"string\",\n",
        "                    \"description\": \"Total amount in the invoice e.g. $100,€100,£100,¥100,₣100,₹100\"\n",
        "                },\n",
        "                \"invoice_status\": {\n",
        "                    \"type\": \"string\",\n",
        "                    \"description\": \"Status of the invoice e.g. 'paid' or 'pending'\"\n",
        "                },\n",
        "                \"invoice_payment\": {\n",
        "                    \"type\": \"string\",\n",
        "                    \"description\": \"Status of the invoice payment e.g. 'gpay','cash','online payment'\"\n",
        "                },\n",
        "                \"invoice_notes\": {\n",
        "                    \"type\": \"string\",\n",
        "                    \"description\": \"Additional notes or comments for the invoice\"\n",
        "                }\n",
        "            },\n",
        "            \"required\": [\"from\",\"Contact for Sender\",\"to\",\"Contact for Recipient\", \"invoice_number\", \"order_number\", \"invoice_date\", \"total\",\"invoice_payment\", \"invoice_status\",\"invoice_notes\"]\n",
        "        }\n",
        "    }\n",
        "]\n",
        "\n",
        "template = \"\"\"/\n",
        "Scan the following invoice and return the match relevant details.\n",
        "If the data is missing just return N/A\n",
        "Invoice: {invoice}\n",
        "\"\"\"\n",
        "\n",
        "\"\"\"\n",
        "Scan uploaded PDF or Word document to extract invoice details.\n",
        "\"\"\"\n",
        "\n",
        "def main():\n",
        "    load_dotenv()\n",
        "\n",
        "    llm = ChatOpenAI(model=\"gpt-3.5-turbo-0613\")\n",
        "\n",
        "    st.write(\"# Invoice Scanner\")\n",
        "\n",
        "    st.write(\"### Upload Your Invoice\")\n",
        "\n",
        "    status = st.empty()\n",
        "\n",
        "    file = st.file_uploader(\"PDF, Word Doc\", type=[\"pdf\", \"docx\"])\n",
        "\n",
        "    details = st.empty()\n",
        "\n",
        "    if file is not None:\n",
        "        with st.spinner(\"Scanning...\"):\n",
        "            text = \"\"\n",
        "            if file.type == \"application/pdf\":\n",
        "                with pdfplumber.open(file) as pdf:\n",
        "                  text = ''\n",
        "                  for page in pdf.pages:\n",
        "                      text += page.extract_text()\n",
        "\n",
        "            if file.type == \"application/vnd.openxmlformats-officedocument.wordprocessingml.document\":\n",
        "                text += docx2txt.process(file)\n",
        "\n",
        "            prompt = PromptTemplate.from_template(template)\n",
        "            content = prompt.format(invoice=text)\n",
        "\n",
        "            messages = [HumanMessage(content=content)]\n",
        "            language_model = ChatOpenAI(model_name='gpt-4')\n",
        "\n",
        "            try:\n",
        "                message = language_model.predict_messages(\n",
        "                    messages, functions=function_definitions)\n",
        "\n",
        "                data = json.loads(\n",
        "                    message.additional_kwargs[\"function_call\"][\"arguments\"])\n",
        "                logger.info('Extracted data: %s', data)\n",
        "\n",
        "                st.header(\"Details\")\n",
        "                st.json(data)\n",
        "\n",
        "                status = status.success(\"Invoice Scanned Successfully\")\n",
        "            except Exception as e:\n",
        "                logger.exception(\"An error occurred: %s\", str(e))\n",
        "                st.error(\"An error occurred during processing.\")\n",
        "\n",
        "\n",
        "if __name__ == '__main__':\n",
        "    main()\n"
      ],
      "metadata": {
        "id": "5HE6Jm57_IqE"
      },
      "execution_count": null,
      "outputs": []
    },
    {
      "cell_type": "code",
      "source": [
        "!npm install localtunnel"
      ],
      "metadata": {
        "id": "EX6HLjGHFfqI"
      },
      "execution_count": null,
      "outputs": []
    },
    {
      "cell_type": "code",
      "source": [
        "!streamlit run app.py &>/content/logs.txt & npx localtunnel --port 8501 --subdomain demoscript & curl ipv4.icanhazip.com"
      ],
      "metadata": {
        "id": "1jl7OhReEzyb"
      },
      "execution_count": null,
      "outputs": []
    }
  ]
}